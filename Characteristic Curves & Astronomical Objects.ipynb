{
 "cells": [
  {
   "cell_type": "markdown",
   "metadata": {},
   "source": [
    "<b>Characteristic Curves & Astronomical Objects</b><br><br>\n",
    "BLAH BLAH BLAH DESCRIPTION HERE<br><br>"
   ]
  },
  {
   "cell_type": "code",
   "execution_count": null,
   "metadata": {},
   "outputs": [],
   "source": [
    "#import necessary packages\n",
    "\n",
    "import pandas as pd\n",
    "import numpy as np\n",
    "%matplotlib inline\n",
    "import matplotlib.pyplot as plt\n",
    "import matplotlib.patches as mpatches\n",
    "import seaborn\n",
    "plt.style.use('seaborn-whitegrid')\n",
    "from gatspy import datasets, periodic\n",
    "import pywt\n",
    "from tsfresh import extract_features, select_features\n",
    "from tsfresh.utilities.dataframe_functions import impute, check_for_nans_in_columns\n",
    "from tsfresh.feature_extraction import MinimalFCParameters\n",
    "from sklearn.decomposition import PCA\n",
    "from scipy.interpolate import UnivariateSpline"
   ]
  },
  {
   "cell_type": "code",
   "execution_count": null,
   "metadata": {},
   "outputs": [],
   "source": [
    "#create pandas dataframe with training set time-series and metadata\n",
    "\n",
    "train_series = pd.read_csv('training_set.csv')\n",
    "train_series = train_series.sort_values(['object_id', 'passband'], ascending = [True, True])\n",
    "\n",
    "train_metadata = pd.read_csv('training_set_metadata.csv')\n",
    "\n",
    "train_series.head()\n",
    "\n",
    "#print('Classes contained in the data set:')\n",
    "#types = train_metadata['target'].unique()\n",
    "#print(types)"
   ]
  },
  {
   "cell_type": "code",
   "execution_count": null,
   "metadata": {},
   "outputs": [],
   "source": [
    "#combine time series data and merge with metadata\n",
    "\n",
    "#create arrays for object id and passband through which to iterate\n",
    "ids = train_metadata['object_id'].values\n",
    "passbands = [0, 1, 2, 3, 4, 5]\n",
    "\n",
    "#append mjd, flux, and flux_err values per passband per object to the metadata\n",
    "for band in passbands:\n",
    "    mjd_column = []\n",
    "    flux_column = []\n",
    "    fluxerr_column = []\n",
    "    for obj in ids:\n",
    "        selection = train_series.loc[(train_series['object_id'] == obj) & (train_series['passband'] == band)]\n",
    "        mjd_column.append(np.array(selection['mjd']))\n",
    "        flux_column.append(np.array(selection['flux']))\n",
    "        fluxerr_column.append(np.array(selection['flux_err']))\n",
    "    train_metadata['mjd_passband_{}'.format(band)] = mjd_column\n",
    "    train_metadata['flux_passband_{}'.format(band)] = flux_column\n",
    "    train_metadata['fluxerr_passband_{}'.format(band)] = fluxerr_column"
   ]
  },
  {
   "cell_type": "markdown",
   "metadata": {},
   "source": [
    "#DESCRIPTION OF VARIABLES CONTAINED IN DATA \n",
    "\n",
    "for classification: need object_id (to identify objects), ddf (to see which survey area the object comes from), hostgal_specz (to see if the object is extragalactic), hostgal_photoz, hostgal_photozerr, mwebv (extinction of light specific to passbands based on object's coordinates), target, mjd (time), flux in each passband, flux_err, detected\n",
    "\n",
    "coordinates: ra, dec1, gal_l, gal_b"
   ]
  },
  {
   "cell_type": "code",
   "execution_count": null,
   "metadata": {},
   "outputs": [],
   "source": [
    "#deleting unneccessary columns for the sake of efficiency\n",
    "#print(train_metadata.columns.values)\n",
    "\n",
    "train_metadata.head()"
   ]
  },
  {
   "cell_type": "code",
   "execution_count": null,
   "metadata": {},
   "outputs": [],
   "source": [
    "#plot distribution of object frequency in each class\n",
    "\n",
    "train_metadata['target'].value_counts().plot(kind='bar')\n",
    "plt.title('Training Set Class Frequencies')\n",
    "plt.xlabel('Class')\n",
    "plt.ylabel('Number of representative objects')"
   ]
  },
  {
   "cell_type": "markdown",
   "metadata": {},
   "source": [
    "#EXPLANATION OF DISTRIBUTION. WHAT IT CAN TELL US ABOUT OUR ANALYSIS\n",
    "\n",
    "#BRIGHTER OBJECTS HAVE A HIGHER LIKELIHOOD OF BEING DETECTED.\n",
    "#THIS DISTRIBUTION IS NOT REFLECTIVE OF THE TESTING SET OR IN FACT THE NIGHT SKY AT ALL.\n",
    "#OBJECTS THAT ARE POORLY SAMPLED MIGHT BE HARDER TO DETECT.\n",
    "#THIS DATA COMES FROM A SIMULATION OF WHAT THE LSST MIGHT FIND. \n"
   ]
  },
  {
   "cell_type": "code",
   "execution_count": null,
   "metadata": {},
   "outputs": [],
   "source": [
    "#plot object distributions between survey fields\n",
    "#ddf == 1 means the object comes from the ddf survey area\n",
    "#ddf == 0 means the object comes from the wfd survey area\n",
    "#ddf == 1 fluxes have significantly smaller uncertainties\n",
    "\n",
    "#distribution of classes surveyed in ddf\n",
    "plt.figure()\n",
    "ddf_events = train_metadata[(train_metadata['ddf'] == 1)]\n",
    "ddf_events['target'].value_counts().plot(kind='bar')\n",
    "\n",
    "plt.title('Training Set Class Frequencies (DDF)')\n",
    "plt.xlabel('Class')\n",
    "plt.ylabel('Number of representative objects')\n",
    "\n",
    "#distribution of classes surveyed in wfd\n",
    "plt.figure()\n",
    "wfd_events = train_metadata[(train_metadata['ddf'] == 0)]\n",
    "wfd_events['target'].value_counts().plot(kind='bar')\n",
    "\n",
    "plt.title('Training Set Class Frequencies (WFD)')\n",
    "plt.xlabel('Class')\n",
    "plt.ylabel('Number of representative objects')"
   ]
  },
  {
   "cell_type": "markdown",
   "metadata": {},
   "source": [
    "WHAT CAN THIS DISTRIBUTION TELL US"
   ]
  },
  {
   "cell_type": "code",
   "execution_count": null,
   "metadata": {},
   "outputs": [],
   "source": [
    "#create dataframes for each class represented\n",
    "type_90 = train_metadata.loc[train_metadata['target'] == 90]\n",
    "type_42 = train_metadata.loc[train_metadata['target'] == 42]\n",
    "type_65 = train_metadata.loc[train_metadata['target'] == 65]\n",
    "type_16 = train_metadata.loc[train_metadata['target'] == 16]\n",
    "type_15 = train_metadata.loc[train_metadata['target'] == 15]\n",
    "type_62 = train_metadata.loc[train_metadata['target'] == 62]\n",
    "type_88 = train_metadata.loc[train_metadata['target'] == 88]\n",
    "type_92 = train_metadata.loc[train_metadata['target'] == 92]\n",
    "type_67 = train_metadata.loc[train_metadata['target'] == 67]\n",
    "type_52 = train_metadata.loc[train_metadata['target'] == 52]\n",
    "type_95 = train_metadata.loc[train_metadata['target'] == 95]\n",
    "type_6 = train_metadata.loc[train_metadata['target'] == 6]\n",
    "type_64 = train_metadata.loc[train_metadata['target'] == 64]\n",
    "type_53 = train_metadata.loc[train_metadata['target'] == 53]\n",
    "\n",
    "type_90.head()"
   ]
  },
  {
   "cell_type": "code",
   "execution_count": null,
   "metadata": {},
   "outputs": [],
   "source": [
    "#define Lomb-Scargle Multiband Fit for analyzing periodicity of an object\n",
    "def fit_multiband(obj_id):\n",
    "    \n",
    "    #time, flux, flux error, and passband series\n",
    "    t = train_series[train_series['object_id'] == obj_id]['mjd']\n",
    "    f = train_series[train_series['object_id'] == obj_id]['flux']\n",
    "    e = train_series[train_series['object_id'] == obj_id]['flux_err']\n",
    "    b = train_series[train_series['object_id'] == obj_id]['passband']\n",
    "    \n",
    "    #parameterizing and fitting the model\n",
    "    model = periodic.LombScargleMultibandFast(fit_period= True)\n",
    "    model.optimizer.period_range = (0.1, int((t.max()-t.min())/2)) #REASONING FOR THIS?\n",
    "    model.fit(t, f, e, b)\n",
    "    \n",
    "    #finding out how good the periodic fit it\n",
    "    best_period_score = model.score(model.best_period)\n",
    "    \n",
    "    return [model, model.best_period, best_period_score]"
   ]
  },
  {
   "cell_type": "code",
   "execution_count": null,
   "metadata": {},
   "outputs": [],
   "source": [
    "#Smoothing spline regression technique to create evenly-spaced points\n",
    "#Since wavelet transform cannot accept two axes of information\n",
    "def interpolate_signal(obj_id, band):\n",
    "    \n",
    "    t=np.asarray(train_metadata.loc[train_metadata['object_id'] == obj_id]['mjd_passband_{}'.format(band)])[0]\n",
    "    f=np.asarray(train_metadata.loc[train_metadata['object_id'] == obj_id]['flux_passband_{}'.format(band)])[0]\n",
    "\n",
    "    #third degree univariate spline function generation\n",
    "    s0 = UnivariateSpline(t, f, k=4)\n",
    "    \n",
    "    return s0\n",
    "\n",
    "#define discrete wavelet transform for dynamic characteristics of data\n",
    "def single_dwt(obj_id, band):\n",
    "    \n",
    "    #formatting the index of the time and flux according to chosen passband\n",
    "    t = \"mjd_passband_{}\".format(band)\n",
    "    fl = \"flux_passband_{}\".format(band)\n",
    "       \n",
    "    time = np.array(train_metadata[t][train_metadata['object_id'] == obj_id])[0]\n",
    "\n",
    "    interp = interpolate_signal(obj_id, band)\n",
    "    x = np.linspace(time.min(), time.max(), 100) \n",
    "    y = interp(x)\n",
    "    \n",
    "    #discrete wavelet transform on two levels using daubechies wavelet\n",
    "    wav = pywt.wavedec(y, wavelet = 'db1', level = 2)\n",
    "\n",
    "    #concatenating the large-scale and small-scale frequencies detected\n",
    "    wav_coefficients, wav_slices = pywt.coeffs_to_array(wav)\n",
    "    \n",
    "    return wav_coefficients\n",
    "\n",
    "def combine_dwt(obj_id):\n",
    "    \n",
    "    #combining the coefficients between each passband for a single object\n",
    "    all_coefficients = np.vstack((single_dwt(obj_id, 0), single_dwt(obj_id, 1), single_dwt(obj_id, 2), \n",
    "             single_dwt(obj_id, 3), single_dwt(obj_id, 4), single_dwt(obj_id, 5)))\n",
    "    \n",
    "    #retaining 98% of the variability while reducing dimensionality\n",
    "    pca = PCA(0.98)\n",
    "    pca.fit(all_coefficients)\n",
    "    \n",
    "    return pca.singular_values_, pca.explained_variance_ratio_\n"
   ]
  },
  {
   "cell_type": "markdown",
   "metadata": {},
   "source": [
    "THERE ARE LARGE OBSERVATION GAPS DUE TO THE TELESCOPIC SETTINGS. SO THE DATA IS KIND OF SPARSE. BUT WE CAN TRY TO FOLD THE OBJECTS BY PERIOD BECAUSE SOME OBJECTS WILL EXHIBIT BEHAVIORS LIKE THIS. EXAMPLES???\n",
    "\n",
    "NORMAL CLASSIFIERS ASSUME INDEPENDENT EXAMPLES. SINCE THIS IS TIME-SERIES DATA, POINTS THAT ARE CLOSE IN TIME WILL BE CORRELATED. "
   ]
  },
  {
   "cell_type": "code",
   "execution_count": null,
   "metadata": {},
   "outputs": [],
   "source": [
    "#define function to create raw light curve plot\n",
    "def raw_curve(obj_id):\n",
    "    \n",
    "    obj_class = int(train_metadata['target'][train_metadata['object_id'] == obj_id])\n",
    "    \n",
    "    u = mpatches.Patch(color = 'red', label = 'u')\n",
    "    g = mpatches.Patch(color = 'orange', label = 'g')\n",
    "    r = mpatches.Patch(color = 'yellow', label = 'r')\n",
    "    i = mpatches.Patch(color = 'green', label = 'i')\n",
    "    z = mpatches.Patch(color = 'blue', label = 'z')\n",
    "    y = mpatches.Patch(color = 'purple', label = 'y')\n",
    "    \n",
    "    plt.figure()\n",
    "    plt.legend(handles=[u, g, r, i, z, y])\n",
    "    plt.title('Raw Light Curve: Object {}'.format(obj_id)+ '; Class {}'.format(obj_class))\n",
    "    plt.xlabel('mjd')\n",
    "    plt.ylabel('flux')\n",
    "\n",
    "    plt.scatter(x = np.array(train_metadata['mjd_passband_0'][train_metadata['object_id'] == obj_id])[0], y = np.array(train_metadata['flux_passband_0'][train_metadata['object_id'] == obj_id])[0], color='red')\n",
    "    plt.scatter(x = np.array(train_metadata['mjd_passband_1'][train_metadata['object_id'] == obj_id])[0], y = np.array(train_metadata['flux_passband_1'][train_metadata['object_id'] == obj_id])[0], color='orange')\n",
    "    plt.scatter(x = np.array(train_metadata['mjd_passband_2'][train_metadata['object_id'] == obj_id])[0], y = np.array(train_metadata['flux_passband_2'][train_metadata['object_id'] == obj_id])[0], color='yellow')\n",
    "    plt.scatter(x = np.array(train_metadata['mjd_passband_3'][train_metadata['object_id'] == obj_id])[0], y = np.array(train_metadata['flux_passband_3'][train_metadata['object_id'] == obj_id])[0], color='green')\n",
    "    plt.scatter(x = np.array(train_metadata['mjd_passband_4'][train_metadata['object_id'] == obj_id])[0], y = np.array(train_metadata['flux_passband_4'][train_metadata['object_id'] == obj_id])[0], color='blue')\n",
    "    plt.scatter(x = np.array(train_metadata['mjd_passband_5'][train_metadata['object_id'] == obj_id])[0], y = np.array(train_metadata['flux_passband_5'][train_metadata['object_id'] == obj_id])[0], color='purple')\n",
    "    \n",
    "    return\n",
    "\n",
    "#define function to print phase plot & best periodic fit\n",
    "def phase_curve(obj_id, model, best_period, best_score):\n",
    "    \n",
    "    obj_class = int(train_metadata['target'][train_metadata['object_id'] == obj_id])\n",
    "    \n",
    "    #single phase in each passband\n",
    "    plt.figure()\n",
    "    plt.title('Phase Plot: Object {}'.format(obj_id) + ': Class {}'.format(obj_class))\n",
    "    plt.xlabel('phase')\n",
    "    plt.ylabel('relative flux')\n",
    "    plt.scatter(x = np.array(train_metadata['mjd_passband_0'][train_metadata['object_id'] == obj_id])[0] / (model.best_period) % 1, y = np.array(train_metadata['flux_passband_0'][train_metadata['object_id'] == obj_id])[0], color = 'red')\n",
    "    plt.scatter(x = np.array(train_metadata['mjd_passband_1'][train_metadata['object_id'] == obj_id])[0] / (model.best_period) % 1, y = np.array(train_metadata['flux_passband_1'][train_metadata['object_id'] == obj_id])[0], color = 'orange')\n",
    "    plt.scatter(x = np.array(train_metadata['mjd_passband_2'][train_metadata['object_id'] == obj_id])[0] / (model.best_period) % 1, y = np.array(train_metadata['flux_passband_2'][train_metadata['object_id'] == obj_id])[0], color = 'yellow')\n",
    "    plt.scatter(x = np.array(train_metadata['mjd_passband_3'][train_metadata['object_id'] == obj_id])[0] / (model.best_period) % 1, y = np.array(train_metadata['flux_passband_3'][train_metadata['object_id'] == obj_id])[0], color = 'green')\n",
    "    plt.scatter(x = np.array(train_metadata['mjd_passband_4'][train_metadata['object_id'] == obj_id])[0] / (model.best_period) % 1, y = np.array(train_metadata['flux_passband_4'][train_metadata['object_id'] == obj_id])[0], color = 'blue')\n",
    "    plt.scatter(x = np.array(train_metadata['mjd_passband_5'][train_metadata['object_id'] == obj_id])[0] / (model.best_period) % 1, y = np.array(train_metadata['flux_passband_5'][train_metadata['object_id'] == obj_id])[0], color = 'purple')\n",
    "    \n",
    "    #best periodic fit for each passband\n",
    "    plt.figure()\n",
    "    plt.title('Best Periodic Fit: {}'.format(best_period) + '; Period Score: {}'.format(best_score))\n",
    "    plt.xlabel('phase')\n",
    "    plt.ylabel('relative flux')\n",
    "    yfit = model.predict(np.linspace(0, best_period, 1000), 0)\n",
    "    plt.plot(np.linspace(0, best_period, 1000), yfit, color = 'red')\n",
    "    yfit = model.predict(np.linspace(0, best_period, 1000), 1)\n",
    "    plt.plot(np.linspace(0, best_period, 1000), yfit, color = 'orange')\n",
    "    yfit = model.predict(np.linspace(0, best_period, 1000), 2)\n",
    "    plt.plot(np.linspace(0, best_period, 1000), yfit, color = 'yellow')\n",
    "    yfit = model.predict(np.linspace(0, best_period, 1000), 3)\n",
    "    plt.plot(np.linspace(0, best_period, 1000), yfit, color = 'green')\n",
    "    yfit = model.predict(np.linspace(0, best_period, 1000), 4)\n",
    "    plt.plot(np.linspace(0, best_period, 1000), yfit, color = 'blue')\n",
    "    yfit = model.predict(np.linspace(0, best_period, 1000), 5)\n",
    "    plt.plot(np.linspace(0, best_period, 1000), yfit, color = 'purple')\n",
    "    \n",
    "    return\n"
   ]
  },
  {
   "cell_type": "code",
   "execution_count": null,
   "metadata": {},
   "outputs": [],
   "source": [
    "#function to generate plots and features for a single object\n",
    "\n",
    "def analyze_characteristics(object_id):\n",
    "    [values, evr] = combine_dwt(object_id)\n",
    "    raw_curve(object_id)\n",
    "    [model, best_period, best_score] = fit_multiband(object_id)\n",
    "    phase_curve(object_id, model, best_period, best_score)\n",
    "    \n",
    "    return [values, evr, best_period, best_score]\n"
   ]
  },
  {
   "cell_type": "code",
   "execution_count": null,
   "metadata": {},
   "outputs": [],
   "source": [
    "def class_analysis(target):\n",
    "    \n",
    "    metaseries = train_metadata.loc[train_metadata['target'] == target]\n",
    "    ids = (metaseries['object_id'].unique())\n",
    "    \n",
    "    #generate first four examples using the object analysis\n",
    "    analyze_characteristics(ids[0])\n",
    "    analyze_characteristics(ids[1])\n",
    "    analyze_characteristics(ids[2])\n",
    "    analyze_characteristics(ids[3])\n",
    "    \n",
    "    #plot distribution of detected == 1 events per object\n",
    "    #detected == 1 means that the signal is significantly\n",
    "    #different than the background flux\n",
    "    #using same loop to plot distribution of best period\n",
    "    best_periods = []\n",
    "    best_scores = []\n",
    "    detecteds = []\n",
    "    \n",
    "    for x in ids:\n",
    "        xseries = train_series[(train_series['object_id'] == x)]\n",
    "        detectedx = xseries[['detected']]\n",
    "        detecteds += [int(detectedx.sum())]\n",
    "        model, best_period, best_score = fit_multiband(x)\n",
    "        best_periods += [best_period]\n",
    "        best_scores += [best_score]\n",
    "        \n",
    "    \n",
    "    #create histogram from detecteds\n",
    "    plt.figure()\n",
    "    plt.hist(detecteds)\n",
    "    plt.title('Frequency of Detected Events: Class {}'.format(target))\n",
    "    plt.xlabel('Number of Detected Events')\n",
    "    plt.ylabel('Frequency')\n",
    "    \n",
    "    #create histogram from best periods\n",
    "    plt.figure()\n",
    "    plt.hist(best_periods)\n",
    "    plt.title('Distribution of Best Period: Class {}'.format(target))\n",
    "    plt.xlabel('Period')\n",
    "    plt.ylabel('Occurrences')\n",
    "    avg_best_score = np.mean(best_scores)\n",
    "    \n",
    "    #naive benchmark for whether events tend to occur within or beyond our galaxy\n",
    "    hostgal = metaseries[['hostgal_specz']]\n",
    "    \n",
    "    #check if 'hostgal_specz' has any zero component\n",
    "        #if so, such events can occur within galaxy\n",
    "    within_galaxy_possible = (0 in hostgal.values)\n",
    "    #check if 'hostgal_specz' has all zero components\n",
    "        #if so, such events exclusively occur within the galaxy\n",
    "    within_galaxy_must = (hostgal.values == 0).all()\n",
    "    \n",
    "    return (within_galaxy_possible, within_galaxy_must, avg_best_score)"
   ]
  },
  {
   "cell_type": "code",
   "execution_count": null,
   "metadata": {},
   "outputs": [],
   "source": [
    "class_analysis(90)"
   ]
  },
  {
   "cell_type": "code",
   "execution_count": null,
   "metadata": {},
   "outputs": [],
   "source": [
    "class_analysis(42)"
   ]
  },
  {
   "cell_type": "code",
   "execution_count": null,
   "metadata": {},
   "outputs": [],
   "source": [
    "class_analysis(65)"
   ]
  },
  {
   "cell_type": "code",
   "execution_count": null,
   "metadata": {},
   "outputs": [],
   "source": [
    "class_analysis(16)"
   ]
  },
  {
   "cell_type": "code",
   "execution_count": null,
   "metadata": {},
   "outputs": [],
   "source": [
    "class_analysis(15)"
   ]
  },
  {
   "cell_type": "code",
   "execution_count": null,
   "metadata": {},
   "outputs": [],
   "source": [
    "class_analysis(62)"
   ]
  },
  {
   "cell_type": "code",
   "execution_count": null,
   "metadata": {},
   "outputs": [],
   "source": [
    "class_analysis(88)"
   ]
  },
  {
   "cell_type": "code",
   "execution_count": null,
   "metadata": {},
   "outputs": [],
   "source": [
    "class_analysis(92)"
   ]
  },
  {
   "cell_type": "code",
   "execution_count": null,
   "metadata": {},
   "outputs": [],
   "source": [
    "class_analysis(67)"
   ]
  },
  {
   "cell_type": "code",
   "execution_count": null,
   "metadata": {},
   "outputs": [],
   "source": [
    "class_analysis(52)"
   ]
  },
  {
   "cell_type": "code",
   "execution_count": null,
   "metadata": {},
   "outputs": [],
   "source": [
    "class_analysis(95)"
   ]
  },
  {
   "cell_type": "code",
   "execution_count": null,
   "metadata": {},
   "outputs": [],
   "source": [
    "class_analysis(6)"
   ]
  },
  {
   "cell_type": "code",
   "execution_count": null,
   "metadata": {},
   "outputs": [],
   "source": [
    "class_analysis(64)"
   ]
  },
  {
   "cell_type": "code",
   "execution_count": null,
   "metadata": {},
   "outputs": [],
   "source": [
    "class_analysis(53)"
   ]
  },
  {
   "cell_type": "code",
   "execution_count": null,
   "metadata": {},
   "outputs": [],
   "source": [
    "#define function for tsfresh analysis of all classes\n",
    "#useful for extracting features like peaks, outliers, etc. in time series data\n",
    "#need to fix this method with tsfresh statistical features.\n",
    "#difficult to implement for unevenly samples time series data\n",
    "#has to do with finding the right versions for the right packages.\n",
    "\n",
    "def statistical_features():\n",
    "    \n",
    "    #count the occurrence of each object in train_series\n",
    "    #keep that in a series\n",
    "    #use an iterator to move through train_metadata and multiply accordingly\n",
    "    ids = train_metadata['object_id'].unique()\n",
    "    \n",
    "    #setting the index of the target series to the object ids\n",
    "    targets = pd.Series(data = None, index= ids)\n",
    "\n",
    "    for x in ids:\n",
    "        #target for each object\n",
    "        targ = int(train_metadata[train_metadata['object_id'] == x]['target'])\n",
    "        #populating the empty series\n",
    "        targets[x] = targ\n",
    "    \n",
    "    #extracting and selecting the most relevant features\n",
    "    extracted_features = extract_features(train_series, column_id = 'object_id', column_value = 'flux', column_sort = 'mjd', column_kind = 'passband', default_fc_parameters = MinimalFCParameters())\n",
    "    extracted_features = impute(extracted_features)\n",
    "    features_filtered = select_features(extracted_features, targets)\n",
    "    \n",
    "    return features_filtered"
   ]
  },
  {
   "cell_type": "code",
   "execution_count": null,
   "metadata": {},
   "outputs": [],
   "source": [
    "#difficult to implement for unevenly sampled time series data\n",
    "#define function to perform continuous wavelet transform\n",
    "def cwt(y): \n",
    "    \n",
    "    #organizing plots for different passbands\n",
    "    fig, axs = plt.subplots(nrows = 2, ncols = 3, sharex = True, sharey = True)\n",
    "    \n",
    "    class_separate = train_metadata.loc[train_metadata['target'] == y]\n",
    "    class_indices = class_separate.object_id.unique()\n",
    "    \n",
    "    #choosing train_series rows where the label = y\n",
    "    X = (train_series[train_series['object_id'].isin(class_indices)]).drop(columns =['flux_err', 'detected'])\n",
    "    \n",
    "    for ax, index, signal in zip(axs.flat, class_indices, [0, 1, 2, 3, 4, 5]):\n",
    "        coeffs, freqs = pywt.cwt(X[['mjd', 'flux']].where(X['passband'] == signal && X['object_id'] == index), np.arange(1, 65), wavelet = 'mexh')\n",
    "        \n",
    "        ax.imshow(coeffs, cmap = 'coolwarm', aspect = 'auto')\n",
    "        ax.set_title('CWT of Object ' + index + ' in band ' + signal)\n",
    "        ax.spines['right'].set_visible(False)\n",
    "        ax.spines['top'].set_visible(False)\n",
    "        ax.set_ylabel('Scale')\n",
    "        ax.set_xlabel('Time')\n",
    "        \n",
    "    plt.tight_layout()\n",
    "    \n",
    "    return"
   ]
  }
 ],
 "metadata": {
  "kernelspec": {
   "display_name": "Python [default]",
   "language": "python",
   "name": "python2"
  },
  "language_info": {
   "codemirror_mode": {
    "name": "ipython",
    "version": 2
   },
   "file_extension": ".py",
   "mimetype": "text/x-python",
   "name": "python",
   "nbconvert_exporter": "python",
   "pygments_lexer": "ipython2",
   "version": "2.7.15"
  }
 },
 "nbformat": 4,
 "nbformat_minor": 2
}
